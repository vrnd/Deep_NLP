{
 "cells": [
  {
   "cell_type": "code",
   "execution_count": 194,
   "metadata": {},
   "outputs": [],
   "source": [
    "import numpy as np\n",
    "import pandas as pd\n",
    "import re\n",
    "import nltk\n",
    "import sklearn\n",
    "import matplotlib.pyplot as plt\n",
    "from sklearn.preprocessing import LabelEncoder\n",
    "from sklearn.model_selection import train_test_split\n",
    "from sklearn.feature_extraction.text import CountVectorizer, TfidfVectorizer\n",
    "from sklearn.naive_bayes import MultinomialNB\n",
    "from sklearn.metrics import accuracy_score\n",
    "from sklearn.ensemble import RandomForestClassifier\n",
    "from sklearn.manifold import TSNE\n",
    "from nltk.stem import WordNetLemmatizer"
   ]
  },
  {
   "cell_type": "code",
   "execution_count": 195,
   "metadata": {},
   "outputs": [],
   "source": [
    "chatbot = pd.read_csv(\"deepnlp/Sheet_1.csv\",encoding = 'latin-1')\n",
    "resume = pd.read_csv(\"deepnlp/Sheet_2.csv\", encoding = 'latin-1')"
   ]
  },
  {
   "cell_type": "code",
   "execution_count": 196,
   "metadata": {},
   "outputs": [
    {
     "data": {
      "text/html": [
       "<div>\n",
       "<style scoped>\n",
       "    .dataframe tbody tr th:only-of-type {\n",
       "        vertical-align: middle;\n",
       "    }\n",
       "\n",
       "    .dataframe tbody tr th {\n",
       "        vertical-align: top;\n",
       "    }\n",
       "\n",
       "    .dataframe thead th {\n",
       "        text-align: right;\n",
       "    }\n",
       "</style>\n",
       "<table border=\"1\" class=\"dataframe\">\n",
       "  <thead>\n",
       "    <tr style=\"text-align: right;\">\n",
       "      <th></th>\n",
       "      <th>response_id</th>\n",
       "      <th>class</th>\n",
       "      <th>response_text</th>\n",
       "      <th>Unnamed: 3</th>\n",
       "      <th>Unnamed: 4</th>\n",
       "      <th>Unnamed: 5</th>\n",
       "      <th>Unnamed: 6</th>\n",
       "      <th>Unnamed: 7</th>\n",
       "    </tr>\n",
       "  </thead>\n",
       "  <tbody>\n",
       "    <tr>\n",
       "      <th>0</th>\n",
       "      <td>response_1</td>\n",
       "      <td>not_flagged</td>\n",
       "      <td>I try and avoid this sort of conflict</td>\n",
       "      <td>NaN</td>\n",
       "      <td>NaN</td>\n",
       "      <td>NaN</td>\n",
       "      <td>NaN</td>\n",
       "      <td>NaN</td>\n",
       "    </tr>\n",
       "    <tr>\n",
       "      <th>1</th>\n",
       "      <td>response_2</td>\n",
       "      <td>flagged</td>\n",
       "      <td>Had a friend open up to me about his mental ad...</td>\n",
       "      <td>NaN</td>\n",
       "      <td>NaN</td>\n",
       "      <td>NaN</td>\n",
       "      <td>NaN</td>\n",
       "      <td>NaN</td>\n",
       "    </tr>\n",
       "    <tr>\n",
       "      <th>2</th>\n",
       "      <td>response_3</td>\n",
       "      <td>flagged</td>\n",
       "      <td>I saved a girl from suicide once. She was goin...</td>\n",
       "      <td>NaN</td>\n",
       "      <td>NaN</td>\n",
       "      <td>NaN</td>\n",
       "      <td>NaN</td>\n",
       "      <td>NaN</td>\n",
       "    </tr>\n",
       "    <tr>\n",
       "      <th>3</th>\n",
       "      <td>response_4</td>\n",
       "      <td>not_flagged</td>\n",
       "      <td>i cant think of one really...i think i may hav...</td>\n",
       "      <td>NaN</td>\n",
       "      <td>NaN</td>\n",
       "      <td>NaN</td>\n",
       "      <td>NaN</td>\n",
       "      <td>NaN</td>\n",
       "    </tr>\n",
       "    <tr>\n",
       "      <th>4</th>\n",
       "      <td>response_5</td>\n",
       "      <td>not_flagged</td>\n",
       "      <td>Only really one friend who doesn't fit into th...</td>\n",
       "      <td></td>\n",
       "      <td>NaN</td>\n",
       "      <td>NaN</td>\n",
       "      <td>NaN</td>\n",
       "      <td>NaN</td>\n",
       "    </tr>\n",
       "  </tbody>\n",
       "</table>\n",
       "</div>"
      ],
      "text/plain": [
       "  response_id        class                                      response_text  \\\n",
       "0  response_1  not_flagged              I try and avoid this sort of conflict   \n",
       "1  response_2      flagged  Had a friend open up to me about his mental ad...   \n",
       "2  response_3      flagged  I saved a girl from suicide once. She was goin...   \n",
       "3  response_4  not_flagged  i cant think of one really...i think i may hav...   \n",
       "4  response_5  not_flagged  Only really one friend who doesn't fit into th...   \n",
       "\n",
       "  Unnamed: 3  Unnamed: 4 Unnamed: 5  Unnamed: 6 Unnamed: 7  \n",
       "0        NaN         NaN        NaN         NaN        NaN  \n",
       "1        NaN         NaN        NaN         NaN        NaN  \n",
       "2        NaN         NaN        NaN         NaN        NaN  \n",
       "3        NaN         NaN        NaN         NaN        NaN  \n",
       "4                    NaN        NaN         NaN        NaN  "
      ]
     },
     "execution_count": 196,
     "metadata": {},
     "output_type": "execute_result"
    }
   ],
   "source": [
    "chatbot.head()"
   ]
  },
  {
   "cell_type": "code",
   "execution_count": 197,
   "metadata": {},
   "outputs": [],
   "source": [
    "cols = ['response_id','class','response_text']\n",
    "chatbot = chatbot[cols]"
   ]
  },
  {
   "cell_type": "code",
   "execution_count": 198,
   "metadata": {},
   "outputs": [
    {
     "data": {
      "text/html": [
       "<div>\n",
       "<style scoped>\n",
       "    .dataframe tbody tr th:only-of-type {\n",
       "        vertical-align: middle;\n",
       "    }\n",
       "\n",
       "    .dataframe tbody tr th {\n",
       "        vertical-align: top;\n",
       "    }\n",
       "\n",
       "    .dataframe thead th {\n",
       "        text-align: right;\n",
       "    }\n",
       "</style>\n",
       "<table border=\"1\" class=\"dataframe\">\n",
       "  <thead>\n",
       "    <tr style=\"text-align: right;\">\n",
       "      <th></th>\n",
       "      <th>response_id</th>\n",
       "      <th>class</th>\n",
       "      <th>response_text</th>\n",
       "    </tr>\n",
       "  </thead>\n",
       "  <tbody>\n",
       "    <tr>\n",
       "      <th>0</th>\n",
       "      <td>response_1</td>\n",
       "      <td>not_flagged</td>\n",
       "      <td>I try and avoid this sort of conflict</td>\n",
       "    </tr>\n",
       "    <tr>\n",
       "      <th>1</th>\n",
       "      <td>response_2</td>\n",
       "      <td>flagged</td>\n",
       "      <td>Had a friend open up to me about his mental ad...</td>\n",
       "    </tr>\n",
       "    <tr>\n",
       "      <th>2</th>\n",
       "      <td>response_3</td>\n",
       "      <td>flagged</td>\n",
       "      <td>I saved a girl from suicide once. She was goin...</td>\n",
       "    </tr>\n",
       "    <tr>\n",
       "      <th>3</th>\n",
       "      <td>response_4</td>\n",
       "      <td>not_flagged</td>\n",
       "      <td>i cant think of one really...i think i may hav...</td>\n",
       "    </tr>\n",
       "    <tr>\n",
       "      <th>4</th>\n",
       "      <td>response_5</td>\n",
       "      <td>not_flagged</td>\n",
       "      <td>Only really one friend who doesn't fit into th...</td>\n",
       "    </tr>\n",
       "  </tbody>\n",
       "</table>\n",
       "</div>"
      ],
      "text/plain": [
       "  response_id        class                                      response_text\n",
       "0  response_1  not_flagged              I try and avoid this sort of conflict\n",
       "1  response_2      flagged  Had a friend open up to me about his mental ad...\n",
       "2  response_3      flagged  I saved a girl from suicide once. She was goin...\n",
       "3  response_4  not_flagged  i cant think of one really...i think i may hav...\n",
       "4  response_5  not_flagged  Only really one friend who doesn't fit into th..."
      ]
     },
     "execution_count": 198,
     "metadata": {},
     "output_type": "execute_result"
    }
   ],
   "source": [
    "chatbot.head()"
   ]
  },
  {
   "cell_type": "code",
   "execution_count": 199,
   "metadata": {},
   "outputs": [
    {
     "data": {
      "text/plain": [
       "not_flagged    55\n",
       "flagged        25\n",
       "Name: class, dtype: int64"
      ]
     },
     "execution_count": 199,
     "metadata": {},
     "output_type": "execute_result"
    }
   ],
   "source": [
    "chatbot['class'].value_counts()"
   ]
  },
  {
   "cell_type": "code",
   "execution_count": 200,
   "metadata": {},
   "outputs": [],
   "source": [
    "Encode = LabelEncoder()\n",
    "chatbot['Label'] = Encode.fit_transform(chatbot['class'])\n",
    "# 1 - not_flagged\n",
    "# 0 - flagged"
   ]
  },
  {
   "cell_type": "code",
   "execution_count": 201,
   "metadata": {},
   "outputs": [
    {
     "data": {
      "text/plain": [
       "1    55\n",
       "0    25\n",
       "Name: Label, dtype: int64"
      ]
     },
     "execution_count": 201,
     "metadata": {},
     "output_type": "execute_result"
    }
   ],
   "source": [
    "chatbot['Label'].value_counts()"
   ]
  },
  {
   "cell_type": "code",
   "execution_count": 202,
   "metadata": {},
   "outputs": [
    {
     "name": "stdout",
     "output_type": "stream",
     "text": [
      "0.6666666666666666\n"
     ]
    }
   ],
   "source": [
    "#Naive_Bayes\n",
    "x = chatbot.response_text\n",
    "y = chatbot.Label\n",
    "X_train,X_test,y_train,y_test = train_test_split(x,y,test_size=.3, random_state=1)\n",
    "vect = CountVectorizer()\n",
    "trainv = vect.fit_transform(X_train)\n",
    "testv = vect.transform(X_test)\n",
    "MNB = MultinomialNB()\n",
    "MNB = MNB.fit(trainv, y_train)\n",
    "y_predict = MNB.predict(testv)\n",
    "acc = accuracy_score(y_test,y_predict)\n",
    "print(acc)"
   ]
  },
  {
   "cell_type": "code",
   "execution_count": 203,
   "metadata": {},
   "outputs": [
    {
     "name": "stdout",
     "output_type": "stream",
     "text": [
      "0.7916666666666666\n"
     ]
    }
   ],
   "source": [
    "#Random_Forest\n",
    "rf = RandomForestClassifier(max_features=10,max_depth=10)\n",
    "rf = rf.fit(trainv, y_train)\n",
    "rf_predict = rf.predict(testv)\n",
    "acc = accuracy_score(rf_predict,y_test)\n",
    "print(acc)"
   ]
  },
  {
   "cell_type": "markdown",
   "metadata": {},
   "source": [
    "**Deep Learning**"
   ]
  },
  {
   "cell_type": "code",
   "execution_count": 204,
   "metadata": {},
   "outputs": [],
   "source": [
    "from keras.models import Sequential\n",
    "from keras.layers import Dense, Dropout, Activation\n",
    "from keras.utils import to_categorical"
   ]
  },
  {
   "cell_type": "code",
   "execution_count": 205,
   "metadata": {},
   "outputs": [],
   "source": [
    "x_col = chatbot.iloc[1:, 2] \n",
    "y_col = chatbot.iloc[1:, 1] "
   ]
  },
  {
   "cell_type": "code",
   "execution_count": 206,
   "metadata": {},
   "outputs": [
    {
     "name": "stdout",
     "output_type": "stream",
     "text": [
      "[1 1 0 0 0 1 1 0 1 0 1 0 0 0 1 0 0 0 0 0 1 1 0 0 1 1 0 1 0 0 0 0 0 0 0 1 0\n",
      " 1 0 1 0 0 0 0 0 0 0 1 0 0 1 0 0 0 0 0 1 0 1 0 1 0 0 1 0 0 0 0 0 0 0 1 0 1\n",
      " 0 1 0 1 0]\n"
     ]
    }
   ],
   "source": [
    "num_classes = len(list(set(y_col)))\n",
    "y_int_to_label = {idx:label for idx,label in enumerate(set(y_col))}\n",
    "y_label_to_int = {label:idx for idx,label in enumerate(set(y_col))}\n",
    "y_int = np.array([y_label_to_int[label] for label in y_col])\n",
    "print(y_int)"
   ]
  },
  {
   "cell_type": "code",
   "execution_count": 207,
   "metadata": {},
   "outputs": [],
   "source": [
    "vectorizer = TfidfVectorizer()\n",
    "x_vect = vectorizer.fit_transform(x_col)\n",
    "y_vect = to_categorical(y_int)"
   ]
  },
  {
   "cell_type": "code",
   "execution_count": 208,
   "metadata": {},
   "outputs": [],
   "source": [
    "X_train, X_test, y_train, y_test = train_test_split(x_vect, y_vect, test_size=0.3)"
   ]
  },
  {
   "cell_type": "code",
   "execution_count": 209,
   "metadata": {},
   "outputs": [
    {
     "name": "stdout",
     "output_type": "stream",
     "text": [
      "_________________________________________________________________\n",
      "Layer (type)                 Output Shape              Param #   \n",
      "=================================================================\n",
      "dense_61 (Dense)             (None, 256)               168448    \n",
      "_________________________________________________________________\n",
      "dropout_40 (Dropout)         (None, 256)               0         \n",
      "_________________________________________________________________\n",
      "dense_62 (Dense)             (None, 128)               32896     \n",
      "_________________________________________________________________\n",
      "dropout_41 (Dropout)         (None, 128)               0         \n",
      "_________________________________________________________________\n",
      "dense_63 (Dense)             (None, 64)                8256      \n",
      "_________________________________________________________________\n",
      "dropout_42 (Dropout)         (None, 64)                0         \n",
      "_________________________________________________________________\n",
      "dense_64 (Dense)             (None, 2)                 130       \n",
      "=================================================================\n",
      "Total params: 209,730\n",
      "Trainable params: 209,730\n",
      "Non-trainable params: 0\n",
      "_________________________________________________________________\n"
     ]
    }
   ],
   "source": [
    "model = Sequential()\n",
    "model.add(Dense(256, activation='tanh', input_dim=x_vect.shape[1]))\n",
    "model.add(Dropout(0.3))\n",
    "model.add(Dense(128, activation='tanh'))\n",
    "model.add(Dropout(0.2))\n",
    "model.add(Dense(64, activation='tanh'))\n",
    "model.add(Dropout(0.1))\n",
    "model.add(Dense(num_classes, activation='softmax'))\n",
    "\n",
    "model.compile(loss='categorical_crossentropy', optimizer='adam', metrics=['accuracy'])\n",
    "model.summary()"
   ]
  },
  {
   "cell_type": "code",
   "execution_count": 210,
   "metadata": {},
   "outputs": [
    {
     "name": "stdout",
     "output_type": "stream",
     "text": [
      "Train on 41 samples, validate on 14 samples\n",
      "Epoch 1/30\n",
      " - 1s - loss: 0.6703 - acc: 0.6585 - val_loss: 0.6590 - val_acc: 0.6429\n",
      "Epoch 2/30\n",
      " - 0s - loss: 0.5521 - acc: 0.8537 - val_loss: 0.5944 - val_acc: 0.7857\n",
      "Epoch 3/30\n",
      " - 0s - loss: 0.4417 - acc: 0.9024 - val_loss: 0.5413 - val_acc: 0.7857\n",
      "Epoch 4/30\n",
      " - 0s - loss: 0.2915 - acc: 0.9756 - val_loss: 0.5374 - val_acc: 0.7857\n",
      "Epoch 5/30\n",
      " - 0s - loss: 0.1696 - acc: 1.0000 - val_loss: 0.5525 - val_acc: 0.7143\n",
      "Epoch 6/30\n",
      " - 0s - loss: 0.0814 - acc: 1.0000 - val_loss: 0.5250 - val_acc: 0.7857\n",
      "Epoch 7/30\n",
      " - 0s - loss: 0.0316 - acc: 1.0000 - val_loss: 0.4813 - val_acc: 0.7857\n",
      "Epoch 8/30\n",
      " - 0s - loss: 0.0139 - acc: 1.0000 - val_loss: 0.4531 - val_acc: 0.7857\n",
      "Epoch 9/30\n",
      " - 0s - loss: 0.0046 - acc: 1.0000 - val_loss: 0.4365 - val_acc: 0.7857\n",
      "Epoch 10/30\n",
      " - 0s - loss: 0.0029 - acc: 1.0000 - val_loss: 0.4279 - val_acc: 0.7857\n",
      "Epoch 11/30\n",
      " - 0s - loss: 0.0020 - acc: 1.0000 - val_loss: 0.4269 - val_acc: 0.7857\n",
      "Epoch 12/30\n",
      " - 0s - loss: 8.9101e-04 - acc: 1.0000 - val_loss: 0.4265 - val_acc: 0.7857\n",
      "Epoch 13/30\n",
      " - 0s - loss: 0.0019 - acc: 1.0000 - val_loss: 0.4278 - val_acc: 0.7857\n",
      "Epoch 14/30\n",
      " - 0s - loss: 8.7409e-04 - acc: 1.0000 - val_loss: 0.4282 - val_acc: 0.7857\n",
      "Epoch 15/30\n",
      " - 0s - loss: 8.2441e-04 - acc: 1.0000 - val_loss: 0.4284 - val_acc: 0.7857\n",
      "Epoch 16/30\n",
      " - 0s - loss: 6.5298e-04 - acc: 1.0000 - val_loss: 0.4281 - val_acc: 0.7857\n",
      "Epoch 17/30\n",
      " - 0s - loss: 7.3040e-04 - acc: 1.0000 - val_loss: 0.4303 - val_acc: 0.7857\n",
      "Epoch 18/30\n",
      " - 0s - loss: 6.4201e-04 - acc: 1.0000 - val_loss: 0.4405 - val_acc: 0.7857\n",
      "Epoch 19/30\n",
      " - 0s - loss: 9.5166e-04 - acc: 1.0000 - val_loss: 0.4466 - val_acc: 0.7857\n",
      "Epoch 20/30\n",
      " - 0s - loss: 5.5109e-04 - acc: 1.0000 - val_loss: 0.4503 - val_acc: 0.7857\n",
      "Epoch 21/30\n",
      " - 0s - loss: 7.6260e-04 - acc: 1.0000 - val_loss: 0.4506 - val_acc: 0.7857\n",
      "Epoch 22/30\n",
      " - 0s - loss: 6.5520e-04 - acc: 1.0000 - val_loss: 0.4478 - val_acc: 0.7857\n",
      "Epoch 23/30\n",
      " - 0s - loss: 4.8802e-04 - acc: 1.0000 - val_loss: 0.4457 - val_acc: 0.7857\n",
      "Epoch 24/30\n",
      " - 0s - loss: 7.9791e-04 - acc: 1.0000 - val_loss: 0.4431 - val_acc: 0.7857\n",
      "Epoch 25/30\n",
      " - 0s - loss: 4.8283e-04 - acc: 1.0000 - val_loss: 0.4424 - val_acc: 0.7857\n",
      "Epoch 26/30\n",
      " - 0s - loss: 4.0532e-04 - acc: 1.0000 - val_loss: 0.4417 - val_acc: 0.7857\n",
      "Epoch 27/30\n",
      " - 0s - loss: 4.0475e-04 - acc: 1.0000 - val_loss: 0.4402 - val_acc: 0.7857\n",
      "Epoch 28/30\n",
      " - 0s - loss: 3.3011e-04 - acc: 1.0000 - val_loss: 0.4386 - val_acc: 0.7857\n",
      "Epoch 29/30\n",
      " - 0s - loss: 4.7744e-04 - acc: 1.0000 - val_loss: 0.4367 - val_acc: 0.7857\n",
      "Epoch 30/30\n",
      " - 0s - loss: 5.8231e-04 - acc: 1.0000 - val_loss: 0.4355 - val_acc: 0.7857\n"
     ]
    }
   ],
   "source": [
    "num_epochs = 30\n",
    "hist = model.fit(\n",
    "    X_train, \n",
    "    y_train, \n",
    "    batch_size=10, \n",
    "    epochs=num_epochs, \n",
    "    verbose=2, \n",
    "    validation_split=0.25)"
   ]
  },
  {
   "cell_type": "code",
   "execution_count": 211,
   "metadata": {},
   "outputs": [
    {
     "data": {
      "image/png": "[encoded data removed]",
      "text/plain": [
       "<Figure size 432x288 with 2 Axes>"
      ]
     },
     "metadata": {},
     "output_type": "display_data"
    }
   ],
   "source": [
    "train_loss = hist.history['loss']\n",
    "val_loss   = hist.history['val_loss']\n",
    "train_acc  = hist.history['acc']\n",
    "val_acc    = hist.history['val_acc']\n",
    "xc         = range(num_epochs)\n",
    "plt.figure()\n",
    "plt.subplot(211)\n",
    "plt.plot(xc, train_loss, color='red')\n",
    "plt.plot(xc, val_loss, color='green')\n",
    "plt.subplot(212)\n",
    "plt.plot(xc, train_acc, color = 'red')\n",
    "plt.plot(xc, val_acc, color = 'green')\n",
    "plt.show()\n"
   ]
  },
  {
   "cell_type": "code",
   "execution_count": 212,
   "metadata": {},
   "outputs": [
    {
     "name": "stdout",
     "output_type": "stream",
     "text": [
      "24/24 [==============================] - 0s 144us/step\n",
      "Accuracy  0.75\n"
     ]
    }
   ],
   "source": [
    "score = model.evaluate(X_test, y_test)\n",
    "print('Accuracy ', score[1]) #for y test"
   ]
  },
  {
   "cell_type": "code",
   "execution_count": 213,
   "metadata": {},
   "outputs": [],
   "source": [
    "x_col = resume.iloc[1:, 2] \n",
    "y_col = resume.iloc[1:, 1] "
   ]
  },
  {
   "cell_type": "code",
   "execution_count": 214,
   "metadata": {},
   "outputs": [
    {
     "name": "stdout",
     "output_type": "stream",
     "text": [
      "[0 0 0 1 0 0 1 0 0 1 0 0 0 0 1 0 1 1 0 0 0 0 1 1 0 0 1 0 0 0 1 1 1 0 0 0 0\n",
      " 1 1 0 0 1 0 0 0 0 0 0 1 0 0 1 0 0 0 1 0 0 0 1 0 0 0 0 0 0 0 0 0 1 0 0 0 0\n",
      " 1 0 0 0 1 0 0 0 0 0 0 0 1 0 0 0 0 0 0 0 0 0 0 0 0 0 1 0 0 1 0 1 1 0 0 0 0\n",
      " 1 0 1 1 0 1 1 0 0 0 0 1 0]\n"
     ]
    }
   ],
   "source": [
    "num_classes = len(list(set(y_col)))\n",
    "y_int_to_label = {idx:label for idx,label in enumerate(set(y_col))}\n",
    "y_label_to_int = {label:idx for idx,label in enumerate(set(y_col))}\n",
    "y_int = np.array([y_label_to_int[label] for label in y_col])\n",
    "print(y_int)"
   ]
  },
  {
   "cell_type": "code",
   "execution_count": 215,
   "metadata": {},
   "outputs": [],
   "source": [
    "vectorizer = TfidfVectorizer()\n",
    "x_vect = vectorizer.fit_transform(x_col)\n",
    "y_vect = to_categorical(y_int)"
   ]
  },
  {
   "cell_type": "code",
   "execution_count": 216,
   "metadata": {},
   "outputs": [],
   "source": [
    "X_train, X_test, y_train, y_test = train_test_split(x_vect, y_vect, test_size=0.3)"
   ]
  },
  {
   "cell_type": "code",
   "execution_count": 217,
   "metadata": {},
   "outputs": [
    {
     "name": "stdout",
     "output_type": "stream",
     "text": [
      "_________________________________________________________________\n",
      "Layer (type)                 Output Shape              Param #   \n",
      "=================================================================\n",
      "dense_65 (Dense)             (None, 256)               2920960   \n",
      "_________________________________________________________________\n",
      "dropout_43 (Dropout)         (None, 256)               0         \n",
      "_________________________________________________________________\n",
      "dense_66 (Dense)             (None, 128)               32896     \n",
      "_________________________________________________________________\n",
      "dense_67 (Dense)             (None, 64)                8256      \n",
      "_________________________________________________________________\n",
      "dense_68 (Dense)             (None, 2)                 130       \n",
      "=================================================================\n",
      "Total params: 2,962,242\n",
      "Trainable params: 2,962,242\n",
      "Non-trainable params: 0\n",
      "_________________________________________________________________\n"
     ]
    }
   ],
   "source": [
    "model = Sequential()\n",
    "model.add(Dense(256, activation='tanh', input_dim=x_vect.shape[1]))\n",
    "model.add(Dropout(0.3))\n",
    "model.add(Dense(128, activation='tanh'))\n",
    "#model.add(Dropout(0.1))\n",
    "model.add(Dense(64, activation='tanh'))\n",
    "#model.add(Dropout(0.1))\n",
    "model.add(Dense(num_classes, activation='softmax'))\n",
    "\n",
    "model.compile(loss='categorical_crossentropy', optimizer='adam', metrics=['accuracy'])\n",
    "model.summary()"
   ]
  },
  {
   "cell_type": "code",
   "execution_count": 218,
   "metadata": {},
   "outputs": [
    {
     "name": "stdout",
     "output_type": "stream",
     "text": [
      "Train on 64 samples, validate on 22 samples\n",
      "Epoch 1/30\n",
      " - 2s - loss: 0.5975 - acc: 0.7344 - val_loss: 0.5616 - val_acc: 0.7273\n",
      "Epoch 2/30\n",
      " - 0s - loss: 0.3013 - acc: 0.7812 - val_loss: 0.6022 - val_acc: 0.7273\n",
      "Epoch 3/30\n",
      " - 0s - loss: 0.0582 - acc: 0.9844 - val_loss: 0.5006 - val_acc: 0.7727\n",
      "Epoch 4/30\n",
      " - 0s - loss: 0.0085 - acc: 1.0000 - val_loss: 0.5541 - val_acc: 0.7727\n",
      "Epoch 5/30\n",
      " - 0s - loss: 0.0017 - acc: 1.0000 - val_loss: 0.6176 - val_acc: 0.7727\n",
      "Epoch 6/30\n",
      " - 0s - loss: 4.2521e-04 - acc: 1.0000 - val_loss: 0.6605 - val_acc: 0.7727\n",
      "Epoch 7/30\n",
      " - 0s - loss: 1.8676e-04 - acc: 1.0000 - val_loss: 0.6857 - val_acc: 0.7727\n",
      "Epoch 8/30\n",
      " - 0s - loss: 1.3696e-04 - acc: 1.0000 - val_loss: 0.6998 - val_acc: 0.7727\n",
      "Epoch 9/30\n",
      " - 0s - loss: 9.8210e-05 - acc: 1.0000 - val_loss: 0.7075 - val_acc: 0.7727\n",
      "Epoch 10/30\n",
      " - 0s - loss: 8.8829e-05 - acc: 1.0000 - val_loss: 0.7119 - val_acc: 0.7727\n",
      "Epoch 11/30\n",
      " - 0s - loss: 7.5763e-05 - acc: 1.0000 - val_loss: 0.7145 - val_acc: 0.7727\n",
      "Epoch 12/30\n",
      " - 0s - loss: 6.5735e-05 - acc: 1.0000 - val_loss: 0.7162 - val_acc: 0.7727\n",
      "Epoch 13/30\n",
      " - 0s - loss: 8.4646e-05 - acc: 1.0000 - val_loss: 0.7176 - val_acc: 0.7727\n",
      "Epoch 14/30\n",
      " - 0s - loss: 6.0576e-05 - acc: 1.0000 - val_loss: 0.7187 - val_acc: 0.7727\n",
      "Epoch 15/30\n",
      " - 0s - loss: 6.2227e-05 - acc: 1.0000 - val_loss: 0.7197 - val_acc: 0.7727\n",
      "Epoch 16/30\n",
      " - 0s - loss: 5.8196e-05 - acc: 1.0000 - val_loss: 0.7207 - val_acc: 0.7727\n",
      "Epoch 17/30\n",
      " - 0s - loss: 5.8533e-05 - acc: 1.0000 - val_loss: 0.7217 - val_acc: 0.7727\n",
      "Epoch 18/30\n",
      " - 0s - loss: 5.4377e-05 - acc: 1.0000 - val_loss: 0.7228 - val_acc: 0.7727\n",
      "Epoch 19/30\n",
      " - 0s - loss: 5.3884e-05 - acc: 1.0000 - val_loss: 0.7238 - val_acc: 0.7727\n",
      "Epoch 20/30\n",
      " - 0s - loss: 5.2971e-05 - acc: 1.0000 - val_loss: 0.7249 - val_acc: 0.7727\n",
      "Epoch 21/30\n",
      " - 0s - loss: 4.4383e-05 - acc: 1.0000 - val_loss: 0.7260 - val_acc: 0.7727\n",
      "Epoch 22/30\n",
      " - 0s - loss: 4.4396e-05 - acc: 1.0000 - val_loss: 0.7271 - val_acc: 0.7727\n",
      "Epoch 23/30\n",
      " - 0s - loss: 4.3534e-05 - acc: 1.0000 - val_loss: 0.7281 - val_acc: 0.7727\n",
      "Epoch 24/30\n",
      " - 0s - loss: 4.3071e-05 - acc: 1.0000 - val_loss: 0.7293 - val_acc: 0.7727\n",
      "Epoch 25/30\n",
      " - 0s - loss: 4.6149e-05 - acc: 1.0000 - val_loss: 0.7305 - val_acc: 0.7727\n",
      "Epoch 26/30\n",
      " - 0s - loss: 3.9956e-05 - acc: 1.0000 - val_loss: 0.7317 - val_acc: 0.7727\n",
      "Epoch 27/30\n",
      " - 0s - loss: 4.2512e-05 - acc: 1.0000 - val_loss: 0.7330 - val_acc: 0.7727\n",
      "Epoch 28/30\n",
      " - 0s - loss: 3.6201e-05 - acc: 1.0000 - val_loss: 0.7341 - val_acc: 0.7727\n",
      "Epoch 29/30\n",
      " - 0s - loss: 3.5186e-05 - acc: 1.0000 - val_loss: 0.7353 - val_acc: 0.7727\n",
      "Epoch 30/30\n",
      " - 0s - loss: 3.6823e-05 - acc: 1.0000 - val_loss: 0.7364 - val_acc: 0.7727\n"
     ]
    }
   ],
   "source": [
    "num_epochs = 30\n",
    "hist = model.fit(\n",
    "    X_train, \n",
    "    y_train, \n",
    "    batch_size=10, \n",
    "    epochs=num_epochs, \n",
    "    verbose=2, \n",
    "    validation_split=0.25)"
   ]
  },
  {
   "cell_type": "code",
   "execution_count": 219,
   "metadata": {},
   "outputs": [
    {
     "data": {
      "image/png": "[encoded data removed]",
      "text/plain": [
       "<Figure size 432x288 with 2 Axes>"
      ]
     },
     "metadata": {},
     "output_type": "display_data"
    }
   ],
   "source": [
    "train_loss = hist.history['loss']\n",
    "val_loss   = hist.history['val_loss']\n",
    "train_acc  = hist.history['acc']\n",
    "val_acc    = hist.history['val_acc']\n",
    "xc         = range(num_epochs)\n",
    "plt.figure()\n",
    "plt.subplot(211)\n",
    "plt.plot(xc, train_loss, color='red')\n",
    "plt.plot(xc, val_loss, color='green')\n",
    "plt.subplot(212)\n",
    "plt.plot(xc, train_acc, color = 'red')\n",
    "plt.plot(xc, val_acc, color = 'green')\n",
    "plt.show()"
   ]
  },
  {
   "cell_type": "code",
   "execution_count": 220,
   "metadata": {},
   "outputs": [
    {
     "name": "stdout",
     "output_type": "stream",
     "text": [
      "38/38 [==============================] - 0s 511us/step\n",
      "Accuracy  0.8947368389681766\n"
     ]
    }
   ],
   "source": [
    "score = model.evaluate(X_test, y_test)\n",
    "print('Accuracy ', score[1]) #for y test"
   ]
  },
  {
   "cell_type": "code",
   "execution_count": null,
   "metadata": {},
   "outputs": [],
   "source": []
  }
 ],
 "metadata": {
  "kernelspec": {
   "display_name": "Python 3",
   "language": "python",
   "name": "python3"
  },
  "language_info": {
   "codemirror_mode": {
    "name": "ipython",
    "version": 3
   },
   "file_extension": ".py",
   "mimetype": "text/x-python",
   "name": "python",
   "nbconvert_exporter": "python",
   "pygments_lexer": "ipython3",
   "version": "3.6.4"
  }
 },
 "nbformat": 4,
 "nbformat_minor": 2
}
